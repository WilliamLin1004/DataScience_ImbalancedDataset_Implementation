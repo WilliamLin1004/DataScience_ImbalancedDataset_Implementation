{
  "nbformat": 4,
  "nbformat_minor": 0,
  "metadata": {
    "colab": {
      "name": "DS_HW2_104403553_v2.ipynb",
      "version": "0.3.2",
      "provenance": []
    },
    "kernelspec": {
      "name": "python3",
      "display_name": "Python 3"
    }
  },
  "cells": [
    {
      "metadata": {
        "id": "uIs85Fd4yNbm",
        "colab_type": "code",
        "colab": {}
      },
      "cell_type": "code",
      "source": [
        "!pip install -U -q PyDrive\n",
        "from pydrive.auth import GoogleAuth\n",
        "from pydrive.drive import GoogleDrive\n",
        "from google.colab import auth\n",
        "from oauth2client.client import GoogleCredentials\n",
        "import pandas as pd\n",
        "# Authenticate and create the PyDrive client.\n",
        "auth.authenticate_user()\n",
        "gauth = GoogleAuth()\n",
        "gauth.credentials = GoogleCredentials.get_application_default()\n",
        "drive = GoogleDrive(gauth)"
      ],
      "execution_count": 0,
      "outputs": []
    },
    {
      "metadata": {
        "id": "wHCLCE-qyWes",
        "colab_type": "code",
        "outputId": "46a1e29c-532f-4f03-f084-a395a1c50bd8",
        "colab": {
          "base_uri": "https://localhost:8080/",
          "height": 782
        }
      },
      "cell_type": "code",
      "source": [
        "bg_train_link = 'https://drive.google.com/open?id=1zcHuVtGoRe7cGW1wucG3eTf2fxVSIQC1'\n",
        "bg_test_link = 'https://drive.google.com/open?id=1oafF_fQghX9-kGcfX8zuNuVJnAYtVDej'\n",
        "fluff1, bg_train_id = bg_train_link.split('=')\n",
        "fluff1, bg_test_id = bg_test_link.split('=')\n",
        "#print (id) # Verify that you have everything after '='\n",
        "bg_train_downloaded = drive.CreateFile({'id':bg_train_id}) \n",
        "bg_test_downloaded = drive.CreateFile({'id':bg_test_id})\n",
        "bg_train_downloaded.GetContentFile('bg_train.csv')  \n",
        "bg_test_downloaded.GetContentFile('bg_test.csv')  \n",
        "bg_train_df = pd.read_csv('bg_train.csv')\n",
        "bg_test_df = pd.read_csv('bg_test.csv')\n",
        "\n",
        "bg_train_df = bg_train_df.dropna()\n",
        "bg_test_df = bg_test_df.dropna()\n",
        "\n",
        "bg_train_df.info()\n",
        "bg_test_df.info()\n",
        "bg_train_df.tail()"
      ],
      "execution_count": 2,
      "outputs": [
        {
          "output_type": "stream",
          "text": [
            "<class 'pandas.core.frame.DataFrame'>\n",
            "Int64Index: 477 entries, 0 to 480\n",
            "Data columns (total 12 columns):\n",
            "id            477 non-null int64\n",
            "timestamp     477 non-null object\n",
            "gender        477 non-null int64\n",
            "star_sign     477 non-null object\n",
            "phone_os      477 non-null object\n",
            "height        477 non-null float64\n",
            "weight        477 non-null float64\n",
            "sleepiness    477 non-null int64\n",
            "iq            477 non-null float64\n",
            "fb_friends    477 non-null float64\n",
            "yt            477 non-null object\n",
            "self_intro    477 non-null object\n",
            "dtypes: float64(4), int64(3), object(5)\n",
            "memory usage: 48.4+ KB\n",
            "<class 'pandas.core.frame.DataFrame'>\n",
            "Int64Index: 28 entries, 0 to 27\n",
            "Data columns (total 12 columns):\n",
            "id            28 non-null int64\n",
            "timestamp     28 non-null object\n",
            "gender        28 non-null int64\n",
            "star_sign     28 non-null object\n",
            "phone_os      28 non-null object\n",
            "height        28 non-null int64\n",
            "weight        28 non-null int64\n",
            "sleepiness    28 non-null int64\n",
            "iq            28 non-null int64\n",
            "fb_friends    28 non-null int64\n",
            "yt            28 non-null float64\n",
            "self_intro    28 non-null object\n",
            "dtypes: float64(1), int64(7), object(4)\n",
            "memory usage: 2.8+ KB\n"
          ],
          "name": "stdout"
        },
        {
          "output_type": "execute_result",
          "data": {
            "text/html": [
              "<div>\n",
              "<style scoped>\n",
              "    .dataframe tbody tr th:only-of-type {\n",
              "        vertical-align: middle;\n",
              "    }\n",
              "\n",
              "    .dataframe tbody tr th {\n",
              "        vertical-align: top;\n",
              "    }\n",
              "\n",
              "    .dataframe thead th {\n",
              "        text-align: right;\n",
              "    }\n",
              "</style>\n",
              "<table border=\"1\" class=\"dataframe\">\n",
              "  <thead>\n",
              "    <tr style=\"text-align: right;\">\n",
              "      <th></th>\n",
              "      <th>id</th>\n",
              "      <th>timestamp</th>\n",
              "      <th>gender</th>\n",
              "      <th>star_sign</th>\n",
              "      <th>phone_os</th>\n",
              "      <th>height</th>\n",
              "      <th>weight</th>\n",
              "      <th>sleepiness</th>\n",
              "      <th>iq</th>\n",
              "      <th>fb_friends</th>\n",
              "      <th>yt</th>\n",
              "      <th>self_intro</th>\n",
              "    </tr>\n",
              "  </thead>\n",
              "  <tbody>\n",
              "    <tr>\n",
              "      <th>476</th>\n",
              "      <td>477</td>\n",
              "      <td>3/13/2018 10:18:20</td>\n",
              "      <td>1</td>\n",
              "      <td>雙魚座</td>\n",
              "      <td>Android</td>\n",
              "      <td>187.00</td>\n",
              "      <td>87.00000</td>\n",
              "      <td>4</td>\n",
              "      <td>87.00</td>\n",
              "      <td>9487.0</td>\n",
              "      <td>5.9487</td>\n",
              "      <td>I'm a 87.</td>\n",
              "    </tr>\n",
              "    <tr>\n",
              "      <th>477</th>\n",
              "      <td>478</td>\n",
              "      <td>3/13/2018 10:18:29</td>\n",
              "      <td>2</td>\n",
              "      <td>雙子座</td>\n",
              "      <td>Android</td>\n",
              "      <td>180.00</td>\n",
              "      <td>88.00000</td>\n",
              "      <td>5</td>\n",
              "      <td>200.00</td>\n",
              "      <td>888.0</td>\n",
              "      <td>1</td>\n",
              "      <td>I'm a \"Typical Lady\".</td>\n",
              "    </tr>\n",
              "    <tr>\n",
              "      <th>478</th>\n",
              "      <td>479</td>\n",
              "      <td>3/13/2018 10:19:40</td>\n",
              "      <td>2</td>\n",
              "      <td>雙魚座</td>\n",
              "      <td>Android</td>\n",
              "      <td>158.00</td>\n",
              "      <td>56.00000</td>\n",
              "      <td>3</td>\n",
              "      <td>110.00</td>\n",
              "      <td>589.0</td>\n",
              "      <td>0</td>\n",
              "      <td>I am so cuuuuuuute!</td>\n",
              "    </tr>\n",
              "    <tr>\n",
              "      <th>479</th>\n",
              "      <td>480</td>\n",
              "      <td>3/13/2018 10:20:20</td>\n",
              "      <td>1</td>\n",
              "      <td>處女座</td>\n",
              "      <td>Android</td>\n",
              "      <td>188.77</td>\n",
              "      <td>87.59487</td>\n",
              "      <td>5</td>\n",
              "      <td>50.87</td>\n",
              "      <td>9487.0</td>\n",
              "      <td>8.74</td>\n",
              "      <td>Let's party!</td>\n",
              "    </tr>\n",
              "    <tr>\n",
              "      <th>480</th>\n",
              "      <td>481</td>\n",
              "      <td>3/13/2018 12:03:21</td>\n",
              "      <td>1</td>\n",
              "      <td>天秤座</td>\n",
              "      <td>Android</td>\n",
              "      <td>176.00</td>\n",
              "      <td>60.00000</td>\n",
              "      <td>3</td>\n",
              "      <td>87.00</td>\n",
              "      <td>300.0</td>\n",
              "      <td>1</td>\n",
              "      <td>Desperate</td>\n",
              "    </tr>\n",
              "  </tbody>\n",
              "</table>\n",
              "</div>"
            ],
            "text/plain": [
              "      id           timestamp  gender star_sign phone_os  height    weight  \\\n",
              "476  477  3/13/2018 10:18:20       1       雙魚座  Android  187.00  87.00000   \n",
              "477  478  3/13/2018 10:18:29       2       雙子座  Android  180.00  88.00000   \n",
              "478  479  3/13/2018 10:19:40       2       雙魚座  Android  158.00  56.00000   \n",
              "479  480  3/13/2018 10:20:20       1       處女座  Android  188.77  87.59487   \n",
              "480  481  3/13/2018 12:03:21       1       天秤座  Android  176.00  60.00000   \n",
              "\n",
              "     sleepiness      iq  fb_friends      yt             self_intro  \n",
              "476           4   87.00      9487.0  5.9487              I'm a 87.  \n",
              "477           5  200.00       888.0       1  I'm a \"Typical Lady\".  \n",
              "478           3  110.00       589.0       0    I am so cuuuuuuute!  \n",
              "479           5   50.87      9487.0    8.74           Let's party!  \n",
              "480           3   87.00       300.0       1              Desperate  "
            ]
          },
          "metadata": {
            "tags": []
          },
          "execution_count": 2
        }
      ]
    },
    {
      "metadata": {
        "id": "93WmppHpybz0",
        "colab_type": "code",
        "colab": {}
      },
      "cell_type": "code",
      "source": [
        "bg_train_df = bg_train_df.drop(['id','timestamp','self_intro'],axis = 1)\n",
        "bg_test_df = bg_test_df.drop(['id','timestamp','self_intro'],axis = 1)"
      ],
      "execution_count": 0,
      "outputs": []
    },
    {
      "metadata": {
        "id": "Tc2gFQnJyetH",
        "colab_type": "code",
        "outputId": "5b643de5-4bff-4874-d91e-13873dfba663",
        "colab": {
          "base_uri": "https://localhost:8080/",
          "height": 493
        }
      },
      "cell_type": "code",
      "source": [
        "from sklearn import preprocessing\n",
        "le = preprocessing.LabelEncoder()\n",
        "\n",
        "bg_train_df['star_sign'] =le.fit_transform(bg_train_df['star_sign'])\n",
        "bg_test_df['star_sign'] = le.fit_transform(bg_test_df['star_sign'])\n",
        "\n",
        "\n",
        "bg_train_df['phone_os'] =le.fit_transform(bg_train_df['phone_os'])\n",
        "bg_test_df['phone_os'] = le.fit_transform(bg_test_df['phone_os'])\n",
        "\n",
        "bg_train_df['yt'] = bg_train_df.astype('float64')\n",
        "bg_train_df.info()\n",
        "bg_test_df.info()\n"
      ],
      "execution_count": 4,
      "outputs": [
        {
          "output_type": "stream",
          "text": [
            "<class 'pandas.core.frame.DataFrame'>\n",
            "Int64Index: 477 entries, 0 to 480\n",
            "Data columns (total 9 columns):\n",
            "gender        477 non-null int64\n",
            "star_sign     477 non-null int64\n",
            "phone_os      477 non-null int64\n",
            "height        477 non-null float64\n",
            "weight        477 non-null float64\n",
            "sleepiness    477 non-null int64\n",
            "iq            477 non-null float64\n",
            "fb_friends    477 non-null float64\n",
            "yt            477 non-null float64\n",
            "dtypes: float64(5), int64(4)\n",
            "memory usage: 37.3 KB\n",
            "<class 'pandas.core.frame.DataFrame'>\n",
            "Int64Index: 28 entries, 0 to 27\n",
            "Data columns (total 9 columns):\n",
            "gender        28 non-null int64\n",
            "star_sign     28 non-null int64\n",
            "phone_os      28 non-null int64\n",
            "height        28 non-null int64\n",
            "weight        28 non-null int64\n",
            "sleepiness    28 non-null int64\n",
            "iq            28 non-null int64\n",
            "fb_friends    28 non-null int64\n",
            "yt            28 non-null float64\n",
            "dtypes: float64(1), int64(8)\n",
            "memory usage: 2.2 KB\n"
          ],
          "name": "stdout"
        }
      ]
    },
    {
      "metadata": {
        "id": "DBW8eAcy0SEr",
        "colab_type": "code",
        "colab": {}
      },
      "cell_type": "code",
      "source": [
        "bg_train_df =  bg_train_df[(bg_train_df['height']<200) & (bg_train_df['height']>120) & (bg_train_df['weight']<150)&(bg_train_df['weight'])>30 & (bg_train_df['fb_friends']<=5000)&(bg_train_df['yt']<200)]"
      ],
      "execution_count": 0,
      "outputs": []
    },
    {
      "metadata": {
        "id": "cKAi0ybSyj6K",
        "colab_type": "code",
        "outputId": "d1b000e9-36cb-48ff-9912-9afb45d7a7ae",
        "colab": {
          "base_uri": "https://localhost:8080/",
          "height": 340
        }
      },
      "cell_type": "code",
      "source": [
        "bg_train_X = bg_train_df.loc[:,['star_sign','phone_os','height','weight','sleepiness','iq','fb_friends','yt']]\n",
        "bg_train_y = bg_train_df.loc[:,['gender']]\n",
        "\n",
        "bg_test_X = bg_test_df.loc[:,['star_sign','phone_os','height','weight','sleepiness','iq','fb_friends','yt']]\n",
        "bg_test_y = bg_test_df.loc[:,['gender']]\n",
        "\n",
        "\n",
        "\n",
        "bg_train_X.info()\n",
        "bg_test_y.info()"
      ],
      "execution_count": 6,
      "outputs": [
        {
          "output_type": "stream",
          "text": [
            "<class 'pandas.core.frame.DataFrame'>\n",
            "Int64Index: 455 entries, 0 to 480\n",
            "Data columns (total 8 columns):\n",
            "star_sign     455 non-null int64\n",
            "phone_os      455 non-null int64\n",
            "height        455 non-null float64\n",
            "weight        455 non-null float64\n",
            "sleepiness    455 non-null int64\n",
            "iq            455 non-null float64\n",
            "fb_friends    455 non-null float64\n",
            "yt            455 non-null float64\n",
            "dtypes: float64(5), int64(3)\n",
            "memory usage: 32.0 KB\n",
            "<class 'pandas.core.frame.DataFrame'>\n",
            "Int64Index: 28 entries, 0 to 27\n",
            "Data columns (total 1 columns):\n",
            "gender    28 non-null int64\n",
            "dtypes: int64(1)\n",
            "memory usage: 448.0 bytes\n"
          ],
          "name": "stdout"
        }
      ]
    },
    {
      "metadata": {
        "id": "fdspL1_tymng",
        "colab_type": "code",
        "outputId": "14c7d0cb-a7ec-4447-de5c-e936a8a486a7",
        "colab": {
          "base_uri": "https://localhost:8080/",
          "height": 85
        }
      },
      "cell_type": "code",
      "source": [
        "print('bg_train before smote:')\n",
        "print(str(pd.value_counts(bg_train_y.values.flatten())))"
      ],
      "execution_count": 7,
      "outputs": [
        {
          "output_type": "stream",
          "text": [
            "bg_train before smote:\n",
            "1    342\n",
            "2    113\n",
            "dtype: int64\n"
          ],
          "name": "stdout"
        }
      ]
    },
    {
      "metadata": {
        "id": "1OldumcZynmD",
        "colab_type": "code",
        "outputId": "9aa8b97e-ff57-4ba0-fd5f-7840ab8e953f",
        "colab": {
          "base_uri": "https://localhost:8080/",
          "height": 122
        }
      },
      "cell_type": "code",
      "source": [
        "from imblearn.over_sampling import SMOTE\n",
        "from imblearn.ensemble import EasyEnsemble \n",
        "from imblearn.over_sampling import RandomOverSampler\n",
        "\n",
        "sm = SMOTE(random_state=10000)\n",
        "\n",
        "bg_train_X_res, bg_train_y_res = sm.fit_sample(bg_train_X, bg_train_y)\n",
        "\n",
        "\n",
        "\n",
        "bg_train_y_res = pd.DataFrame(bg_train_y_res, columns = [\"gender\"])\n",
        "bg_train_X_res = pd.DataFrame(bg_train_X_res, columns = ['star_sign','phone_os','height','weight','sleepiness','iq','fb_friends','yt'])\n",
        "\n",
        "print(str(pd.value_counts(bg_train_y_res.values.flatten())))"
      ],
      "execution_count": 8,
      "outputs": [
        {
          "output_type": "stream",
          "text": [
            "2    342\n",
            "1    342\n",
            "dtype: int64\n"
          ],
          "name": "stdout"
        },
        {
          "output_type": "stream",
          "text": [
            "/usr/local/lib/python3.6/dist-packages/sklearn/utils/validation.py:761: DataConversionWarning: A column-vector y was passed when a 1d array was expected. Please change the shape of y to (n_samples, ), for example using ravel().\n",
            "  y = column_or_1d(y, warn=True)\n"
          ],
          "name": "stderr"
        }
      ]
    },
    {
      "metadata": {
        "id": "FpbDGkfMyxiy",
        "colab_type": "code",
        "outputId": "ab9d8e85-aac0-4b9e-e51e-11d8795f2919",
        "colab": {
          "base_uri": "https://localhost:8080/",
          "height": 408
        }
      },
      "cell_type": "code",
      "source": [
        "from sklearn import tree\n",
        "from sklearn import metrics\n",
        "import graphviz\n",
        "print('decision tree')\n",
        "tree_clf_no = tree.DecisionTreeClassifier(criterion = 'entropy',max_depth=3,max_leaf_nodes = 8)\n",
        "tree_clf_with = tree.DecisionTreeClassifier(criterion = 'entropy',max_depth=3,max_leaf_nodes = 8)\n",
        "\n",
        "bg_tree_clf_no_smote = tree_clf_no.fit(bg_train_X,bg_train_y)\n",
        "bg_tree_clf_with_smote = tree_clf_with.fit(bg_train_X_res,bg_train_y_res)\n",
        "\n",
        "bg_tree_predicted_no_smote = bg_tree_clf_no_smote.predict(bg_test_X)\n",
        "bg_tree_predicted_with_smote = bg_tree_clf_with_smote.predict(bg_test_X)\n",
        "\n",
        "bg_tree_accuracy_no_smote = metrics.accuracy_score(bg_tree_predicted_no_smote, bg_test_y)\n",
        "bg_tree_accuracy_with_smote = metrics.accuracy_score(bg_tree_predicted_with_smote, bg_test_y)\n",
        "\n",
        "print('Accuracy no smote  ',bg_tree_accuracy_no_smote)\n",
        "print(\"Accuracy with smote\",bg_tree_accuracy_with_smote)\n",
        "print(\"Classification no smote\")\n",
        "print(metrics.classification_report(bg_test_y, bg_tree_predicted_no_smote))\n",
        "print(\"Classification with smote\")\n",
        "print(metrics.classification_report(bg_test_y, bg_tree_predicted_with_smote))"
      ],
      "execution_count": 9,
      "outputs": [
        {
          "output_type": "stream",
          "text": [
            "decision tree\n",
            "Accuracy no smote   0.39285714285714285\n",
            "Accuracy with smote 0.39285714285714285\n",
            "Classification no smote\n",
            "              precision    recall  f1-score   support\n",
            "\n",
            "           1       0.50      0.29      0.37        17\n",
            "           2       0.33      0.55      0.41        11\n",
            "\n",
            "   micro avg       0.39      0.39      0.39        28\n",
            "   macro avg       0.42      0.42      0.39        28\n",
            "weighted avg       0.43      0.39      0.39        28\n",
            "\n",
            "Classification with smote\n",
            "              precision    recall  f1-score   support\n",
            "\n",
            "           1       0.50      0.29      0.37        17\n",
            "           2       0.33      0.55      0.41        11\n",
            "\n",
            "   micro avg       0.39      0.39      0.39        28\n",
            "   macro avg       0.42      0.42      0.39        28\n",
            "weighted avg       0.43      0.39      0.39        28\n",
            "\n"
          ],
          "name": "stdout"
        }
      ]
    },
    {
      "metadata": {
        "id": "uPX7gtp61KSJ",
        "colab_type": "code",
        "colab": {}
      },
      "cell_type": "code",
      "source": [
        ""
      ],
      "execution_count": 0,
      "outputs": []
    }
  ]
}